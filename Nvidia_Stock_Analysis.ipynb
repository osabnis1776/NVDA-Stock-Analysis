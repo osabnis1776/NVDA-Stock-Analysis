{
  "nbformat": 4,
  "nbformat_minor": 0,
  "metadata": {
    "colab": {
      "provenance": []
    },
    "kernelspec": {
      "name": "python3",
      "display_name": "Python 3"
    },
    "language_info": {
      "name": "python"
    }
  },
  "cells": [
    {
      "cell_type": "markdown",
      "source": [
        "BSD 2-Clause License\n",
        "\n",
        "Copyright (c) 2024, Omkar Sabnis\n",
        "\n",
        "Redistribution and use in source and binary forms, with or without\n",
        "modification, are permitted provided that the following conditions are met:\n",
        "\n",
        "1. Redistributions of source code must retain the above copyright notice, this\n",
        "   list of conditions and the following disclaimer.\n",
        "\n",
        "2. Redistributions in binary form must reproduce the above copyright notice,\n",
        "   this list of conditions and the following disclaimer in the documentation\n",
        "   and/or other materials provided with the distribution.\n",
        "\n",
        "THIS SOFTWARE IS PROVIDED BY THE COPYRIGHT HOLDERS AND CONTRIBUTORS \"AS IS\"\n",
        "AND ANY EXPRESS OR IMPLIED WARRANTIES, INCLUDING, BUT NOT LIMITED TO, THE\n",
        "IMPLIED WARRANTIES OF MERCHANTABILITY AND FITNESS FOR A PARTICULAR PURPOSE ARE\n",
        "DISCLAIMED. IN NO EVENT SHALL THE COPYRIGHT HOLDER OR CONTRIBUTORS BE LIABLE\n",
        "FOR ANY DIRECT, INDIRECT, INCIDENTAL, SPECIAL, EXEMPLARY, OR CONSEQUENTIAL\n",
        "DAMAGES (INCLUDING, BUT NOT LIMITED TO, PROCUREMENT OF SUBSTITUTE GOODS OR\n",
        "SERVICES; LOSS OF USE, DATA, OR PROFITS; OR BUSINESS INTERRUPTION) HOWEVER\n",
        "CAUSED AND ON ANY THEORY OF LIABILITY, WHETHER IN CONTRACT, STRICT LIABILITY,\n",
        "OR TORT (INCLUDING NEGLIGENCE OR OTHERWISE) ARISING IN ANY WAY OUT OF THE USE\n",
        "OF THIS SOFTWARE, EVEN IF ADVISED OF THE POSSIBILITY OF SUCH DAMAGE."
      ],
      "metadata": {
        "id": "OQJJ0MOJwzCt"
      }
    },
    {
      "cell_type": "code",
      "execution_count": null,
      "metadata": {
        "id": "GWFv1b21XwgJ"
      },
      "outputs": [],
      "source": [
        "# Importing libraries required for financial data analysis\n",
        "import pandas as pd\n",
        "import numpy as np\n",
        "import matplotlib.pyplot as plt\n",
        "import seaborn as sns\n",
        "import yfinance as yf\n",
        "from datetime import date, datetime, timedelta\n",
        "from statsmodels.tsa.arima.model import ARIMA\n",
        "from sklearn.metrics import mean_squared_error"
      ]
    },
    {
      "cell_type": "code",
      "source": [
        "# Importing data from yfinance\n",
        "nvda = ['NVDA']  # Assigned NVIDIA ticker\n",
        "start_date = (datetime.now() - timedelta(days=3*365)).strftime('%Y-%m-%d') # Date Range Start - 3 years from today\n",
        "end_date = date.today().strftime('%Y-%m-%d')  # Date Range End - Today's date\n",
        "nvda_df = yf.download(nvda, start=start_date, end=end_date)  # Fetching and storing the data in assigned variable\n",
        "\n",
        "# Print the DataFrame columns to verify\n",
        "print('\\n',\"Columns in nvda_df:\", nvda_df.columns)\n",
        "nvda_df.head(3)"
      ],
      "metadata": {
        "colab": {
          "base_uri": "https://localhost:8080/",
          "height": 224
        },
        "id": "qDvqJa4UX8kq",
        "outputId": "9726ef65-0c80-4e0c-8aa7-5a3a99bec32b"
      },
      "execution_count": null,
      "outputs": [
        {
          "output_type": "stream",
          "name": "stderr",
          "text": [
            "\r[*********************100%%**********************]  1 of 1 completed"
          ]
        },
        {
          "output_type": "stream",
          "name": "stdout",
          "text": [
            "\n",
            " Columns in nvda_df: Index(['Open', 'High', 'Low', 'Close', 'Adj Close', 'Volume'], dtype='object')\n"
          ]
        },
        {
          "output_type": "stream",
          "name": "stderr",
          "text": [
            "\n"
          ]
        },
        {
          "output_type": "execute_result",
          "data": {
            "text/plain": [
              "                 Open       High        Low      Close  Adj Close     Volume\n",
              "Date                                                                        \n",
              "2021-08-05  20.500000  20.733000  20.341999  20.636999  20.599764  211435000\n",
              "2021-08-06  20.524000  20.570000  20.209999  20.365999  20.329252  178497000\n",
              "2021-08-09  20.445999  20.507999  20.143000  20.295000  20.258381  146443000"
            ],
            "text/html": [
              "\n",
              "  <div id=\"df-7861c8bf-1c11-498b-bc55-43d12f13fb80\" class=\"colab-df-container\">\n",
              "    <div>\n",
              "<style scoped>\n",
              "    .dataframe tbody tr th:only-of-type {\n",
              "        vertical-align: middle;\n",
              "    }\n",
              "\n",
              "    .dataframe tbody tr th {\n",
              "        vertical-align: top;\n",
              "    }\n",
              "\n",
              "    .dataframe thead th {\n",
              "        text-align: right;\n",
              "    }\n",
              "</style>\n",
              "<table border=\"1\" class=\"dataframe\">\n",
              "  <thead>\n",
              "    <tr style=\"text-align: right;\">\n",
              "      <th></th>\n",
              "      <th>Open</th>\n",
              "      <th>High</th>\n",
              "      <th>Low</th>\n",
              "      <th>Close</th>\n",
              "      <th>Adj Close</th>\n",
              "      <th>Volume</th>\n",
              "    </tr>\n",
              "    <tr>\n",
              "      <th>Date</th>\n",
              "      <th></th>\n",
              "      <th></th>\n",
              "      <th></th>\n",
              "      <th></th>\n",
              "      <th></th>\n",
              "      <th></th>\n",
              "    </tr>\n",
              "  </thead>\n",
              "  <tbody>\n",
              "    <tr>\n",
              "      <th>2021-08-05</th>\n",
              "      <td>20.500000</td>\n",
              "      <td>20.733000</td>\n",
              "      <td>20.341999</td>\n",
              "      <td>20.636999</td>\n",
              "      <td>20.599764</td>\n",
              "      <td>211435000</td>\n",
              "    </tr>\n",
              "    <tr>\n",
              "      <th>2021-08-06</th>\n",
              "      <td>20.524000</td>\n",
              "      <td>20.570000</td>\n",
              "      <td>20.209999</td>\n",
              "      <td>20.365999</td>\n",
              "      <td>20.329252</td>\n",
              "      <td>178497000</td>\n",
              "    </tr>\n",
              "    <tr>\n",
              "      <th>2021-08-09</th>\n",
              "      <td>20.445999</td>\n",
              "      <td>20.507999</td>\n",
              "      <td>20.143000</td>\n",
              "      <td>20.295000</td>\n",
              "      <td>20.258381</td>\n",
              "      <td>146443000</td>\n",
              "    </tr>\n",
              "  </tbody>\n",
              "</table>\n",
              "</div>\n",
              "    <div class=\"colab-df-buttons\">\n",
              "\n",
              "  <div class=\"colab-df-container\">\n",
              "    <button class=\"colab-df-convert\" onclick=\"convertToInteractive('df-7861c8bf-1c11-498b-bc55-43d12f13fb80')\"\n",
              "            title=\"Convert this dataframe to an interactive table.\"\n",
              "            style=\"display:none;\">\n",
              "\n",
              "  <svg xmlns=\"http://www.w3.org/2000/svg\" height=\"24px\" viewBox=\"0 -960 960 960\">\n",
              "    <path d=\"M120-120v-720h720v720H120Zm60-500h600v-160H180v160Zm220 220h160v-160H400v160Zm0 220h160v-160H400v160ZM180-400h160v-160H180v160Zm440 0h160v-160H620v160ZM180-180h160v-160H180v160Zm440 0h160v-160H620v160Z\"/>\n",
              "  </svg>\n",
              "    </button>\n",
              "\n",
              "  <style>\n",
              "    .colab-df-container {\n",
              "      display:flex;\n",
              "      gap: 12px;\n",
              "    }\n",
              "\n",
              "    .colab-df-convert {\n",
              "      background-color: #E8F0FE;\n",
              "      border: none;\n",
              "      border-radius: 50%;\n",
              "      cursor: pointer;\n",
              "      display: none;\n",
              "      fill: #1967D2;\n",
              "      height: 32px;\n",
              "      padding: 0 0 0 0;\n",
              "      width: 32px;\n",
              "    }\n",
              "\n",
              "    .colab-df-convert:hover {\n",
              "      background-color: #E2EBFA;\n",
              "      box-shadow: 0px 1px 2px rgba(60, 64, 67, 0.3), 0px 1px 3px 1px rgba(60, 64, 67, 0.15);\n",
              "      fill: #174EA6;\n",
              "    }\n",
              "\n",
              "    .colab-df-buttons div {\n",
              "      margin-bottom: 4px;\n",
              "    }\n",
              "\n",
              "    [theme=dark] .colab-df-convert {\n",
              "      background-color: #3B4455;\n",
              "      fill: #D2E3FC;\n",
              "    }\n",
              "\n",
              "    [theme=dark] .colab-df-convert:hover {\n",
              "      background-color: #434B5C;\n",
              "      box-shadow: 0px 1px 3px 1px rgba(0, 0, 0, 0.15);\n",
              "      filter: drop-shadow(0px 1px 2px rgba(0, 0, 0, 0.3));\n",
              "      fill: #FFFFFF;\n",
              "    }\n",
              "  </style>\n",
              "\n",
              "    <script>\n",
              "      const buttonEl =\n",
              "        document.querySelector('#df-7861c8bf-1c11-498b-bc55-43d12f13fb80 button.colab-df-convert');\n",
              "      buttonEl.style.display =\n",
              "        google.colab.kernel.accessAllowed ? 'block' : 'none';\n",
              "\n",
              "      async function convertToInteractive(key) {\n",
              "        const element = document.querySelector('#df-7861c8bf-1c11-498b-bc55-43d12f13fb80');\n",
              "        const dataTable =\n",
              "          await google.colab.kernel.invokeFunction('convertToInteractive',\n",
              "                                                    [key], {});\n",
              "        if (!dataTable) return;\n",
              "\n",
              "        const docLinkHtml = 'Like what you see? Visit the ' +\n",
              "          '<a target=\"_blank\" href=https://colab.research.google.com/notebooks/data_table.ipynb>data table notebook</a>'\n",
              "          + ' to learn more about interactive tables.';\n",
              "        element.innerHTML = '';\n",
              "        dataTable['output_type'] = 'display_data';\n",
              "        await google.colab.output.renderOutput(dataTable, element);\n",
              "        const docLink = document.createElement('div');\n",
              "        docLink.innerHTML = docLinkHtml;\n",
              "        element.appendChild(docLink);\n",
              "      }\n",
              "    </script>\n",
              "  </div>\n",
              "\n",
              "\n",
              "<div id=\"df-00208abd-97f8-48cd-a41f-91ccecb80fa8\">\n",
              "  <button class=\"colab-df-quickchart\" onclick=\"quickchart('df-00208abd-97f8-48cd-a41f-91ccecb80fa8')\"\n",
              "            title=\"Suggest charts\"\n",
              "            style=\"display:none;\">\n",
              "\n",
              "<svg xmlns=\"http://www.w3.org/2000/svg\" height=\"24px\"viewBox=\"0 0 24 24\"\n",
              "     width=\"24px\">\n",
              "    <g>\n",
              "        <path d=\"M19 3H5c-1.1 0-2 .9-2 2v14c0 1.1.9 2 2 2h14c1.1 0 2-.9 2-2V5c0-1.1-.9-2-2-2zM9 17H7v-7h2v7zm4 0h-2V7h2v10zm4 0h-2v-4h2v4z\"/>\n",
              "    </g>\n",
              "</svg>\n",
              "  </button>\n",
              "\n",
              "<style>\n",
              "  .colab-df-quickchart {\n",
              "      --bg-color: #E8F0FE;\n",
              "      --fill-color: #1967D2;\n",
              "      --hover-bg-color: #E2EBFA;\n",
              "      --hover-fill-color: #174EA6;\n",
              "      --disabled-fill-color: #AAA;\n",
              "      --disabled-bg-color: #DDD;\n",
              "  }\n",
              "\n",
              "  [theme=dark] .colab-df-quickchart {\n",
              "      --bg-color: #3B4455;\n",
              "      --fill-color: #D2E3FC;\n",
              "      --hover-bg-color: #434B5C;\n",
              "      --hover-fill-color: #FFFFFF;\n",
              "      --disabled-bg-color: #3B4455;\n",
              "      --disabled-fill-color: #666;\n",
              "  }\n",
              "\n",
              "  .colab-df-quickchart {\n",
              "    background-color: var(--bg-color);\n",
              "    border: none;\n",
              "    border-radius: 50%;\n",
              "    cursor: pointer;\n",
              "    display: none;\n",
              "    fill: var(--fill-color);\n",
              "    height: 32px;\n",
              "    padding: 0;\n",
              "    width: 32px;\n",
              "  }\n",
              "\n",
              "  .colab-df-quickchart:hover {\n",
              "    background-color: var(--hover-bg-color);\n",
              "    box-shadow: 0 1px 2px rgba(60, 64, 67, 0.3), 0 1px 3px 1px rgba(60, 64, 67, 0.15);\n",
              "    fill: var(--button-hover-fill-color);\n",
              "  }\n",
              "\n",
              "  .colab-df-quickchart-complete:disabled,\n",
              "  .colab-df-quickchart-complete:disabled:hover {\n",
              "    background-color: var(--disabled-bg-color);\n",
              "    fill: var(--disabled-fill-color);\n",
              "    box-shadow: none;\n",
              "  }\n",
              "\n",
              "  .colab-df-spinner {\n",
              "    border: 2px solid var(--fill-color);\n",
              "    border-color: transparent;\n",
              "    border-bottom-color: var(--fill-color);\n",
              "    animation:\n",
              "      spin 1s steps(1) infinite;\n",
              "  }\n",
              "\n",
              "  @keyframes spin {\n",
              "    0% {\n",
              "      border-color: transparent;\n",
              "      border-bottom-color: var(--fill-color);\n",
              "      border-left-color: var(--fill-color);\n",
              "    }\n",
              "    20% {\n",
              "      border-color: transparent;\n",
              "      border-left-color: var(--fill-color);\n",
              "      border-top-color: var(--fill-color);\n",
              "    }\n",
              "    30% {\n",
              "      border-color: transparent;\n",
              "      border-left-color: var(--fill-color);\n",
              "      border-top-color: var(--fill-color);\n",
              "      border-right-color: var(--fill-color);\n",
              "    }\n",
              "    40% {\n",
              "      border-color: transparent;\n",
              "      border-right-color: var(--fill-color);\n",
              "      border-top-color: var(--fill-color);\n",
              "    }\n",
              "    60% {\n",
              "      border-color: transparent;\n",
              "      border-right-color: var(--fill-color);\n",
              "    }\n",
              "    80% {\n",
              "      border-color: transparent;\n",
              "      border-right-color: var(--fill-color);\n",
              "      border-bottom-color: var(--fill-color);\n",
              "    }\n",
              "    90% {\n",
              "      border-color: transparent;\n",
              "      border-bottom-color: var(--fill-color);\n",
              "    }\n",
              "  }\n",
              "</style>\n",
              "\n",
              "  <script>\n",
              "    async function quickchart(key) {\n",
              "      const quickchartButtonEl =\n",
              "        document.querySelector('#' + key + ' button');\n",
              "      quickchartButtonEl.disabled = true;  // To prevent multiple clicks.\n",
              "      quickchartButtonEl.classList.add('colab-df-spinner');\n",
              "      try {\n",
              "        const charts = await google.colab.kernel.invokeFunction(\n",
              "            'suggestCharts', [key], {});\n",
              "      } catch (error) {\n",
              "        console.error('Error during call to suggestCharts:', error);\n",
              "      }\n",
              "      quickchartButtonEl.classList.remove('colab-df-spinner');\n",
              "      quickchartButtonEl.classList.add('colab-df-quickchart-complete');\n",
              "    }\n",
              "    (() => {\n",
              "      let quickchartButtonEl =\n",
              "        document.querySelector('#df-00208abd-97f8-48cd-a41f-91ccecb80fa8 button');\n",
              "      quickchartButtonEl.style.display =\n",
              "        google.colab.kernel.accessAllowed ? 'block' : 'none';\n",
              "    })();\n",
              "  </script>\n",
              "</div>\n",
              "\n",
              "    </div>\n",
              "  </div>\n"
            ],
            "application/vnd.google.colaboratory.intrinsic+json": {
              "type": "dataframe",
              "variable_name": "nvda_df",
              "summary": "{\n  \"name\": \"nvda_df\",\n  \"rows\": 753,\n  \"fields\": [\n    {\n      \"column\": \"Date\",\n      \"properties\": {\n        \"dtype\": \"date\",\n        \"min\": \"2021-08-05 00:00:00\",\n        \"max\": \"2024-08-02 00:00:00\",\n        \"num_unique_values\": 753,\n        \"samples\": [\n          \"2024-06-11 00:00:00\",\n          \"2024-03-08 00:00:00\",\n          \"2023-01-26 00:00:00\"\n        ],\n        \"semantic_type\": \"\",\n        \"description\": \"\"\n      }\n    },\n    {\n      \"column\": \"Open\",\n      \"properties\": {\n        \"dtype\": \"number\",\n        \"std\": 29.858375869657472,\n        \"min\": 10.970999717712402,\n        \"max\": 139.8000030517578,\n        \"num_unique_values\": 745,\n        \"samples\": [\n          18.29199981689453,\n          18.920000076293945,\n          28.891000747680664\n        ],\n        \"semantic_type\": \"\",\n        \"description\": \"\"\n      }\n    },\n    {\n      \"column\": \"High\",\n      \"properties\": {\n        \"dtype\": \"number\",\n        \"std\": 30.37224796976855,\n        \"min\": 11.734999656677246,\n        \"max\": 140.75999450683594,\n        \"num_unique_values\": 744,\n        \"samples\": [\n          60.33100128173828,\n          45.60499954223633,\n          96.0199966430664\n        ],\n        \"semantic_type\": \"\",\n        \"description\": \"\"\n      }\n    },\n    {\n      \"column\": \"Low\",\n      \"properties\": {\n        \"dtype\": \"number\",\n        \"std\": 29.158061481867417,\n        \"min\": 10.812999725341797,\n        \"max\": 132.4199981689453,\n        \"num_unique_values\": 744,\n        \"samples\": [\n          59.06999969482422,\n          44.0260009765625,\n          93.2490005493164\n        ],\n        \"semantic_type\": \"\",\n        \"description\": \"\"\n      }\n    },\n    {\n      \"column\": \"Close\",\n      \"properties\": {\n        \"dtype\": \"number\",\n        \"std\": 29.768024333163506,\n        \"min\": 11.22700023651123,\n        \"max\": 135.5800018310547,\n        \"num_unique_values\": 746,\n        \"samples\": [\n          18.785999298095703,\n          18.773000717163086,\n          30.94499969482422\n        ],\n        \"semantic_type\": \"\",\n        \"description\": \"\"\n      }\n    },\n    {\n      \"column\": \"Adj Close\",\n      \"properties\": {\n        \"dtype\": \"number\",\n        \"std\": 29.77421287154158,\n        \"min\": 11.217702865600586,\n        \"max\": 135.5800018310547,\n        \"num_unique_values\": 747,\n        \"samples\": [\n          18.76089859008789,\n          18.751882553100586,\n          30.89838981628418\n        ],\n        \"semantic_type\": \"\",\n        \"description\": \"\"\n      }\n    },\n    {\n      \"column\": \"Volume\",\n      \"properties\": {\n        \"dtype\": \"number\",\n        \"std\": 166704221,\n        \"min\": 146276000,\n        \"max\": 1543911000,\n        \"num_unique_values\": 753,\n        \"samples\": [\n          222551200,\n          1142269000,\n          489535000\n        ],\n        \"semantic_type\": \"\",\n        \"description\": \"\"\n      }\n    }\n  ]\n}"
            }
          },
          "metadata": {},
          "execution_count": 52
        }
      ]
    },
    {
      "cell_type": "code",
      "source": [
        "# If there's a MultiIndex (which is possible), flatten it\n",
        "if isinstance(nvda_df.columns, pd.MultiIndex):\n",
        "    nvda_df.columns = nvda_df.columns.get_level_values(1)\n",
        "\n",
        "# Ensure 'Adj Close' is a column in the DataFrame\n",
        "if 'Adj Close' not in nvda_df.columns:\n",
        "    raise KeyError(\"'Adj Close' column is missing from the DataFrame\")\n",
        "\n",
        "# Calculate percentage change and drop NaN values\n",
        "daily_returns = nvda_df['Adj Close'].pct_change().dropna()  # Ensure we're using the correct column\n",
        "\n",
        "# Verify the type of daily_returns\n",
        "print(f\"Type of daily_returns: {type(daily_returns)}\")\n",
        "print(daily_returns.head())  # Display first few rows to verify data"
      ],
      "metadata": {
        "colab": {
          "base_uri": "https://localhost:8080/"
        },
        "id": "uVT3BIFJX_2R",
        "outputId": "3e80e657-0d89-4be8-a3d1-9924250ff966"
      },
      "execution_count": null,
      "outputs": [
        {
          "output_type": "stream",
          "name": "stdout",
          "text": [
            "Type of daily_returns: <class 'pandas.core.series.Series'>\n",
            "Date\n",
            "2021-08-06   -0.013132\n",
            "2021-08-09   -0.003486\n",
            "2021-08-10   -0.017689\n",
            "2021-08-11   -0.011888\n",
            "2021-08-12    0.010458\n",
            "Name: Adj Close, dtype: float64\n"
          ]
        }
      ]
    },
    {
      "cell_type": "code",
      "source": [
        "# VaR Calculation Function\n",
        "def calculate_var(returns, confidence_level=0.95):\n",
        "    return returns.quantile(1 - confidence_level)\n",
        "\n",
        "# Expected Shortfall Calculation Function\n",
        "def calculate_es(returns, confidence_level=0.95):\n",
        "    var = calculate_var(returns, confidence_level)\n",
        "    return returns[returns <= var].mean()\n",
        "\n",
        "# Calculation of VaR and Expected Shortfall for the Series\n",
        "var_95 = calculate_var(daily_returns)  # Apply function directly to Series\n",
        "es_95 = calculate_es(daily_returns)    # Apply function directly to Series\n",
        "\n",
        "# Sharpe Ratio Calculation Function\n",
        "def calculate_sharpe_ratio(returns, risk_free_rate=0.01):\n",
        "    excess_returns = returns.mean() - risk_free_rate\n",
        "    return excess_returns / returns.std()\n",
        "\n",
        "# Calculation of Sharpe Ratio\n",
        "sharpe_ratio = calculate_sharpe_ratio(daily_returns)  # Apply function directly to Series\n",
        "\n",
        "# Sortino Ratio Calculation Function\n",
        "def calculate_sortino_ratio(returns, risk_free_rate=0.01):\n",
        "    excess_returns = returns.mean() - risk_free_rate\n",
        "    downside_risk = returns[returns < 0].std()\n",
        "    return excess_returns / downside_risk\n",
        "\n",
        "# Calculation of Sortino Ratio\n",
        "sortino_ratio = calculate_sortino_ratio(daily_returns)  # Apply function directly to Series\n",
        "\n",
        "# Maximum Drawdown Calculation Function\n",
        "def calculate_max_drawdown(returns):\n",
        "    cumulative = (1 + returns).cumprod()\n",
        "    peak = cumulative.cummax()\n",
        "    drawdown = (cumulative - peak) / peak\n",
        "    return drawdown.min()\n",
        "\n",
        "# Calculation of Maximum Drawdown\n",
        "max_drawdown = calculate_max_drawdown(daily_returns)  # Apply function directly to Series\n",
        "\n",
        "# S&P 500 Market Returns for Beta Calculation\n",
        "market_returns = yf.download('^GSPC', start=start_date, end=end_date)['Adj Close'].pct_change().dropna()\n",
        "\n",
        "\n",
        "# Beta Calculation Function\n",
        "def calculate_beta(stock_returns, market_returns):\n",
        "    # Ensure both returns are aligned and have the same length\n",
        "    aligned_returns = pd.concat([stock_returns, market_returns], axis=1).dropna()\n",
        "    covariance = np.cov(aligned_returns.iloc[:, 0], aligned_returns.iloc[:, 1])[0, 1]\n",
        "    market_variance = np.var(aligned_returns.iloc[:, 1])\n",
        "    return covariance / market_variance\n",
        "\n",
        "# Calculation of Beta\n",
        "beta = calculate_beta(daily_returns, market_returns)"
      ],
      "metadata": {
        "colab": {
          "base_uri": "https://localhost:8080/"
        },
        "id": "X_nTUNxFYMH8",
        "outputId": "461d6cfb-935e-41c8-d3d8-ed6f77a5e40a"
      },
      "execution_count": null,
      "outputs": [
        {
          "output_type": "stream",
          "name": "stderr",
          "text": [
            "\r[*********************100%%**********************]  1 of 1 completed\n"
          ]
        }
      ]
    },
    {
      "cell_type": "code",
      "source": [
        "# Creating and displaying a pandas DataFrame using all the risk metrics created\n",
        "risk_metrics = pd.DataFrame({\n",
        "    'VaR_95': [var_95],\n",
        "    'ES_95': [es_95],\n",
        "    'Sharpe_Ratio': [sharpe_ratio],\n",
        "    'Sortino_Ratio': [sortino_ratio],\n",
        "    'Max_Drawdown': [max_drawdown],\n",
        "    'Beta': [beta]\n",
        "})\n",
        "\n",
        "print(risk_metrics)"
      ],
      "metadata": {
        "colab": {
          "base_uri": "https://localhost:8080/"
        },
        "id": "8YqpD8w0YNGY",
        "outputId": "5ba25054-58ab-4193-a856-a4eeffcbff86"
      },
      "execution_count": null,
      "outputs": [
        {
          "output_type": "stream",
          "name": "stdout",
          "text": [
            "     VaR_95     ES_95  Sharpe_Ratio  Sortino_Ratio  Max_Drawdown     Beta\n",
            "0 -0.052388 -0.067567     -0.205816      -0.363758     -0.663351  2.27842\n"
          ]
        }
      ]
    },
    {
      "cell_type": "code",
      "source": [
        "#Displaying the risk metrics in a formatted manner\n",
        "\n",
        "#VaR\n",
        "print(\"\\n There is a 95 percent chance that NVDA will not lose more than\", round(abs(var_95*100),2), \"percent of its value in any given day.\")\n",
        "#ES\n",
        "print(\"\\n On the worst 5 percent of days, the average loss is\", round(abs(es_95*100),2), \"percent\")\n",
        "#Sharpe Ratio\n",
        "print(\"\\n The asset has a risk adjusted return that is\", round(abs(sharpe_ratio*100),2), \"times the risk free rate when considering both positive and negative returns.\")\n",
        "#Sortino Ratio\n",
        "print(\"\\n The asset has a risk adjusted return that is\", round(abs(sortino_ratio*100),2), \"times the risk free rate when considering only negative returns.\")\n",
        "#Max Drawdown\n",
        "print(\"\\n The asset has experienced a maximum loss of\", round(abs(max_drawdown*100),2), \"percent from its peak to trough.\")\n",
        "#Beta\n",
        "if beta>1:\n",
        "    print(\"\\n The asset is\",round(abs(beta),2),\"times more volatile than the  stock market.\")\n",
        "else:\n",
        "    pass\n",
        "    print(\"\\n The asset is\",round(abs(beta),2),\"less volatile than the stock market.\")"
      ],
      "metadata": {
        "colab": {
          "base_uri": "https://localhost:8080/"
        },
        "id": "ET7JbczbQ13u",
        "outputId": "6f78b0ad-6101-4ccf-aac8-0c6c7cde6d38"
      },
      "execution_count": null,
      "outputs": [
        {
          "output_type": "stream",
          "name": "stdout",
          "text": [
            "\n",
            " There is a 95 percent chance that NVDA will not lose more than 5.24 percent of its value in any given day.\n",
            "\n",
            " On the worst 5 percent of days, the average loss is 6.76 percent\n",
            "\n",
            " The asset has a risk adjusted return that is 20.58 times the risk free rate when considering both positive and negative returns.\n",
            "\n",
            " The asset has a risk adjusted return that is 36.38 times the risk free rate when considering only negative returns.\n",
            "\n",
            " The asset has experienced a maximum loss of 66.34 percent from its peak to trough.\n",
            "\n",
            " The asset is 2.28 times more volatile than the  stock market.\n"
          ]
        }
      ]
    },
    {
      "cell_type": "code",
      "source": [
        "# Distribution plot of percent change in adjusted close of stock price from 20244-01-01 to today\n",
        "plt.figure(figsize=(16, 6))\n",
        "sns.histplot(daily_returns, bins=50, kde=True, color='green')\n",
        "plt.title('Distribution of Daily Percent Change')\n",
        "plt.xlabel('Daily Returns')\n",
        "plt.ylabel('Frequency')\n",
        "plt.grid(True)\n",
        "plt.show()"
      ],
      "metadata": {
        "colab": {
          "base_uri": "https://localhost:8080/",
          "height": 564
        },
        "id": "U6tI2JBeZu-2",
        "outputId": "7e860aff-ec3a-4e95-dc9c-aa6fdb97392a"
      },
      "execution_count": null,
      "outputs": [
        {
          "output_type": "display_data",
          "data": {
            "text/plain": [
              "<Figure size 1600x600 with 1 Axes>"
            ],
            "image/png": "[encoded data removed]"
          },
          "metadata": {}
        }
      ]
    },
    {
      "cell_type": "code",
      "source": [
        "plt.figure(figsize=(12, 6))\n",
        "sns.boxplot(data=risk_metrics)\n",
        "plt.title('Box Plot of Risk Metrics')\n",
        "plt.ylabel('Value')\n",
        "plt.grid(True)\n",
        "plt.show()"
      ],
      "metadata": {
        "colab": {
          "base_uri": "https://localhost:8080/",
          "height": 545
        },
        "id": "EpSmS__FaGsY",
        "outputId": "628e343e-f5a0-4fa4-e434-3392a2e2b6e1"
      },
      "execution_count": null,
      "outputs": [
        {
          "output_type": "display_data",
          "data": {
            "text/plain": [
              "<Figure size 1200x600 with 1 Axes>"
            ],
            "image/png": "[encoded data removed]"
          },
          "metadata": {}
        }
      ]
    }
  ]
}